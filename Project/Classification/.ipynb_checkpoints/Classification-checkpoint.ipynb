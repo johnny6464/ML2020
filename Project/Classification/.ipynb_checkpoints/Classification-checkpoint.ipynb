{
 "cells": [
  {
   "cell_type": "code",
   "execution_count": 1,
   "metadata": {},
   "outputs": [],
   "source": [
    "import numpy as np\n",
    "import pandas as pd\n",
    "import matplotlib.pyplot as plt"
   ]
  },
  {
   "cell_type": "markdown",
   "metadata": {},
   "source": [
    "## Logistic Regression"
   ]
  },
  {
   "cell_type": "code",
   "execution_count": 2,
   "metadata": {},
   "outputs": [],
   "source": [
    "np.random.seed(0)\n",
    "X_train_fpath = \"data/X_train\"\n",
    "y_train_fpath = \"data/Y_train\"\n",
    "X_test_fpath = \"data/X_test\"\n",
    "output_fpath = \"{}.csv\"\n",
    "\n",
    "with open(X_train_fpath) as f:\n",
    "    next(f)\n",
    "    X_train = np.array([line.strip('\\n').split(',')[1:] for line in f], dtype=float)\n",
    "    \n",
    "with open(y_train_fpath) as f:\n",
    "    next(f)\n",
    "    y_train = np.array([line.strip('\\n').split(',')[1] for line in f], dtype=float)\n",
    "    \n",
    "with open(X_test_fpath) as f:\n",
    "    next(f)\n",
    "    X_test = np.array([line.strip('\\n').split(',')[1:] for line in f], dtype = float)"
   ]
  },
  {
   "cell_type": "code",
   "execution_count": 3,
   "metadata": {},
   "outputs": [],
   "source": [
    "def normalize(X, train=True, specified_column=None, X_mean=None, X_std=None):\n",
    "    if specified_column is None:\n",
    "        specified_column=np.arange(X.shape[1])\n",
    "    if train:\n",
    "        X_mean = np.mean(X[:, specified_column], 0).reshape(1, -1)\n",
    "        X_std = np.std(X[:, specified_column], 0).reshape(1, -1)\n",
    "    \n",
    "    X[:, specified_column] = (X[:, specified_column] - X_mean) / (X_std + 1e-8)\n",
    "    \n",
    "    return X, X_mean, X_std\n",
    "\n",
    "def train_valid_split(X, y, ratio=0.25):\n",
    "    train_size = int(X.shape[0] * (1 - ratio))\n",
    "    return X[:train_size], y[:train_size], X[train_size:], y[train_size:]"
   ]
  },
  {
   "cell_type": "code",
   "execution_count": 4,
   "metadata": {},
   "outputs": [
    {
     "name": "stdout",
     "output_type": "stream",
     "text": [
      "train size: 43404\n",
      "test size : 10852\n",
      "dimension : 510\n"
     ]
    }
   ],
   "source": [
    "X_train, X_mean, X_std = normalize(X_train, True)\n",
    "X_test, _, _ = normalize(X_test, False, None, X_mean, X_std)\n",
    "\n",
    "X_train, y_train, X_valid, y_valid = train_valid_split(X_train, y_train, 0.2)\n",
    "train_size = X_train.shape[0]\n",
    "valid_size = X_valid.shape[0]\n",
    "data_dim = X_train.shape[1]\n",
    "print(\"train size:\", train_size)\n",
    "print(\"test size :\", valid_size)\n",
    "print(\"dimension :\", data_dim)"
   ]
  },
  {
   "cell_type": "code",
   "execution_count": 5,
   "metadata": {},
   "outputs": [],
   "source": [
    "def shuffle(X, y):\n",
    "    randomize = np.arange(len(X))\n",
    "    np.random.shuffle(randomize)\n",
    "    return X[randomize], y[randomize]\n",
    "\n",
    "def sigmoid(z):\n",
    "    return np.clip(1 / (1 + np.exp(-z)), 1e-8, 1 - (1e-8))\n",
    "\n",
    "def _f(X, w, b):\n",
    "    return sigmoid(np.matmul(X, w) + b)\n",
    "\n",
    "def predict(X, w, b):\n",
    "    return np.round(_f(X, w, b)).astype(np.int)\n",
    "\n",
    "def accuracy(y_pred, y_label):\n",
    "    return 1 - np.mean(np.abs(y_pred - y_label))\n",
    "\n",
    "def cross_entropy_loss(y_pred, y_label):\n",
    "    return -np.dot(y_label, np.log(y_pred)) - np.dot((1 - y_label), np.log(1 - y_pred))\n",
    "\n",
    "def gradient(X, y_label, w, b):\n",
    "    y_pred = _f(X, w, b)\n",
    "    pred_error = y_label - y_pred\n",
    "    w_grad = -np.sum(pred_error * X.T, 1)\n",
    "    b_grad = -np.sum(pred_error)\n",
    "    return w_grad, b_grad"
   ]
  },
  {
   "cell_type": "code",
   "execution_count": 6,
   "metadata": {},
   "outputs": [],
   "source": [
    "w = np.zeros(data_dim)\n",
    "b = np.zeros((1,))\n",
    "\n",
    "max_iter = 50\n",
    "batch_size = 32\n",
    "\n",
    "lr = 0.0005\n",
    "beta1 = 0.9\n",
    "beta2 = 0.999\n",
    "eps = 1e-8\n",
    "\n",
    "m_w = np.zeros(data_dim)\n",
    "m_b = np.zeros(1)\n",
    "v_w = np.zeros(data_dim)\n",
    "v_b = np.zeros(1)\n",
    "t = 0\n",
    "\n",
    "train_loss = []\n",
    "valid_loss = []\n",
    "train_acc = []\n",
    "valid_acc = []"
   ]
  },
  {
   "cell_type": "code",
   "execution_count": 7,
   "metadata": {},
   "outputs": [
    {
     "name": "stdout",
     "output_type": "stream",
     "text": [
      "epoch: 5\n",
      "Training loss       : 0.2740024925746793\n",
      "Validation loss     : 0.29543001271555863\n",
      "Training accuracy   : 0.885978250852456\n",
      "Validation accuracy : 0.8745853298931072\n",
      "\n",
      "epoch: 10\n",
      "Training loss       : 0.2656377179580775\n",
      "Validation loss     : 0.28949086224017806\n",
      "Training accuracy   : 0.8863699198230578\n",
      "Validation accuracy : 0.8748617766310358\n",
      "\n",
      "epoch: 15\n",
      "Training loss       : 0.2636642398065629\n",
      "Validation loss     : 0.2885832787106425\n",
      "Training accuracy   : 0.8874066906275919\n",
      "Validation accuracy : 0.8776262440103206\n",
      "\n",
      "epoch: 20\n",
      "Training loss       : 0.26320884139973166\n",
      "Validation loss     : 0.2878609801100332\n",
      "Training accuracy   : 0.8871762971154732\n",
      "Validation accuracy : 0.8762440103206782\n",
      "\n",
      "epoch: 25\n",
      "Training loss       : 0.26296335932963594\n",
      "Validation loss     : 0.28782946659774655\n",
      "Training accuracy   : 0.8871993364666851\n",
      "Validation accuracy : 0.8760597124953926\n",
      "\n",
      "epoch: 30\n",
      "Training loss       : 0.263035637864415\n",
      "Validation loss     : 0.2886254875226894\n",
      "Training accuracy   : 0.8872454151691088\n",
      "Validation accuracy : 0.874216734242536\n",
      "\n",
      "epoch: 35\n",
      "Training loss       : 0.2631353852616637\n",
      "Validation loss     : 0.2876172367254401\n",
      "Training accuracy   : 0.8867155100912358\n",
      "Validation accuracy : 0.8753225211942499\n",
      "\n",
      "epoch: 40\n",
      "Training loss       : 0.2628414205042131\n",
      "Validation loss     : 0.2845087884220863\n",
      "Training accuracy   : 0.8871993364666851\n",
      "Validation accuracy : 0.8772576483597494\n",
      "\n",
      "epoch: 45\n",
      "Training loss       : 0.2630379814573975\n",
      "Validation loss     : 0.28665358333430924\n",
      "Training accuracy   : 0.8868307068472951\n",
      "Validation accuracy : 0.8755068190195355\n",
      "\n",
      "epoch: 50\n",
      "Training loss       : 0.2624142711104891\n",
      "Validation loss     : 0.2854437162056862\n",
      "Training accuracy   : 0.8873606119251682\n",
      "Validation accuracy : 0.875783265757464\n",
      "\n"
     ]
    }
   ],
   "source": [
    "for epoch in range(max_iter):\n",
    "    X_train, y_train = shuffle(X_train, y_train)\n",
    "    \n",
    "    for idx in range(int(np.floor(train_size/batch_size))):\n",
    "        X = X_train[idx*batch_size:(idx+1)*batch_size]\n",
    "        y = y_train[idx*batch_size:(idx+1)*batch_size]\n",
    "        \n",
    "        t += 1\n",
    "        w_grad, b_grad = gradient(X, y, w, b)\n",
    "        \n",
    "        m_w = beta1 * m_w + (1 - beta1) * w_grad\n",
    "        m_b = beta1 * m_b + (1 - beta1) * b_grad\n",
    "        v_w = beta2 * v_w + (1 - beta2) * np.power(w_grad, 2)\n",
    "        v_b = beta2 * v_b + (1 - beta2) * np.power(b_grad, 2)\n",
    "        \n",
    "        w = w - lr * (m_w/(1 - np.power(beta1, t))) / (np.sqrt(v_w/(1 - np.power(beta2, t))) + eps)\n",
    "        b = b - lr * (m_b/(1 - np.power(beta1, t))) / (np.sqrt(v_b/(1 - np.power(beta2, t))) + eps)\n",
    "\n",
    "    y_train_pred = _f(X_train, w, b)\n",
    "    Y_train_pred = np.round(y_train_pred)\n",
    "    train_acc.append(accuracy(Y_train_pred, y_train))\n",
    "    train_loss.append(cross_entropy_loss(y_train_pred, y_train) / train_size)\n",
    "\n",
    "    y_valid_pred = _f(X_valid, w, b)\n",
    "    Y_valid_pred = np.round(y_valid_pred)\n",
    "    valid_acc.append(accuracy(Y_valid_pred, y_valid))\n",
    "    valid_loss.append(cross_entropy_loss(y_valid_pred, y_valid) / valid_size)\n",
    "    \n",
    "    if (epoch+1) % 5 == 0:\n",
    "        print('epoch:', epoch+1)\n",
    "        print('Training loss       : {}'.format(train_loss[-1]))\n",
    "        print('Validation loss     : {}'.format(valid_loss[-1]))\n",
    "        print('Training accuracy   : {}'.format(train_acc[-1]))\n",
    "        print('Validation accuracy : {}'.format(valid_acc[-1]))\n",
    "        print()"
   ]
  },
  {
   "cell_type": "code",
   "execution_count": 8,
   "metadata": {},
   "outputs": [
    {
     "data": {
      "image/png": "[encoded data removed]",
      "text/plain": [
       "<Figure size 432x288 with 1 Axes>"
      ]
     },
     "metadata": {
      "needs_background": "light"
     },
     "output_type": "display_data"
    },
    {
     "data": {
      "image/png": "[encoded data removed]",
      "text/plain": [
       "<Figure size 432x288 with 1 Axes>"
      ]
     },
     "metadata": {
      "needs_background": "light"
     },
     "output_type": "display_data"
    }
   ],
   "source": [
    "# Loss curve\n",
    "plt.plot(train_loss)\n",
    "plt.plot(valid_loss)\n",
    "plt.title('Loss')\n",
    "plt.legend(['train', 'valid'])\n",
    "plt.show()\n",
    "\n",
    "# Accuracy curve\n",
    "plt.plot(train_acc)\n",
    "plt.plot(valid_acc)\n",
    "plt.title('Accuracy')\n",
    "plt.legend(['train', 'valid'])\n",
    "plt.show()"
   ]
  },
  {
   "cell_type": "code",
   "execution_count": 9,
   "metadata": {},
   "outputs": [
    {
     "name": "stdout",
     "output_type": "stream",
     "text": [
      " Unemployed full-time 1.1413563526251906\n",
      " 1 0.7671552531096157\n",
      "capital losses 0.6800290468950769\n",
      "id 0.5713067428069474\n",
      "dividends from stocks -0.4880066471461901\n",
      " Yes 0.348947853021127\n",
      " Some college but no degree 0.2864097983266134\n",
      " All other 0.2828317712320531\n",
      " Male -0.28283177123205266\n",
      " Vietnam -0.2618677264273272\n"
     ]
    }
   ],
   "source": [
    "predicts = predict(X_test, w, b)\n",
    "with open(output_fpath.format('logistic'), 'w') as f:\n",
    "    f.write('id,label\\n')\n",
    "    for i, label in enumerate(predicts):\n",
    "        f.write(f\"{i},{label}\\n\")\n",
    "        \n",
    "# Print out the most significant weights\n",
    "ind = np.argsort(np.abs(w))[::-1]\n",
    "with open(X_test_fpath) as f:\n",
    "    content = f.readline().strip('\\n').split(',')\n",
    "features = np.array(content)\n",
    "for i in ind[0:10]:\n",
    "    print(features[i], w[i])"
   ]
  },
  {
   "cell_type": "markdown",
   "metadata": {},
   "source": [
    "## Generative"
   ]
  },
  {
   "cell_type": "code",
   "execution_count": 10,
   "metadata": {},
   "outputs": [],
   "source": [
    "with open(X_train_fpath) as f:\n",
    "    next(f)\n",
    "    X_train = np.array([line.strip('\\n').split(',')[1:] for line in f], dtype=float)\n",
    "    \n",
    "with open(y_train_fpath) as f:\n",
    "    next(f)\n",
    "    y_train = np.array([line.strip('\\n').split(',')[1] for line in f], dtype=float)\n",
    "    \n",
    "with open(X_test_fpath) as f:\n",
    "    next(f)\n",
    "    X_test = np.array([line.strip('\\n').split(',')[1:] for line in f], dtype = float)"
   ]
  },
  {
   "cell_type": "code",
   "execution_count": 11,
   "metadata": {},
   "outputs": [],
   "source": [
    "X_train, X_mean, X_std = normalize(X_train, True)\n",
    "X_test, _, _ = normalize(X_test, False, None, X_mean, X_std)"
   ]
  },
  {
   "cell_type": "code",
   "execution_count": 12,
   "metadata": {},
   "outputs": [],
   "source": [
    "# Compute in-class mean\n",
    "X_train_0 = np.array([x for x, y in zip(X_train, y_train) if y == 0])\n",
    "X_train_1 = np.array([x for x, y in zip(X_train, y_train) if y == 1])\n",
    "\n",
    "mean_0 = np.mean(X_train_0, axis = 0)\n",
    "mean_1 = np.mean(X_train_1, axis = 0)  \n",
    "\n",
    "# Compute in-class covariance\n",
    "cov_0 = np.zeros((data_dim, data_dim))\n",
    "cov_1 = np.zeros((data_dim, data_dim))\n",
    "\n",
    "for x in X_train_0:\n",
    "    cov_0 += np.dot(np.transpose([x - mean_0]), [x - mean_0]) / X_train_0.shape[0]\n",
    "for x in X_train_1:\n",
    "    cov_1 += np.dot(np.transpose([x - mean_1]), [x - mean_1]) / X_train_1.shape[0]\n",
    "\n",
    "# Shared covariance is taken as a weighted average of individual in-class covariance.\n",
    "cov = (cov_0 * X_train_0.shape[0] + cov_1 * X_train_1.shape[0]) / (X_train_0.shape[0] + X_train_1.shape[0])"
   ]
  },
  {
   "cell_type": "code",
   "execution_count": 13,
   "metadata": {},
   "outputs": [
    {
     "name": "stdout",
     "output_type": "stream",
     "text": [
      "Training accuracy: 0.871885137127691\n"
     ]
    }
   ],
   "source": [
    "# Compute inverse of covariance matrix.\n",
    "# Since covariance matrix may be nearly singular, np.linalg.inv() may give a large numerical error.\n",
    "# Via SVD decomposition, one can get matrix inverse efficiently and accurately.\n",
    "u, s, v = np.linalg.svd(cov, full_matrices=False)\n",
    "inv = np.matmul(v.T * 1 / s, u.T)\n",
    "\n",
    "# Directly compute weights and bias\n",
    "w = np.dot(inv, mean_0 - mean_1)\n",
    "b =  (-0.5) * np.dot(mean_0, np.dot(inv, mean_0)) + 0.5 * np.dot(mean_1, np.dot(inv, mean_1))\\\n",
    "    + np.log(float(X_train_0.shape[0]) / X_train_1.shape[0]) \n",
    "\n",
    "# Compute accuracy on training set\n",
    "y_train_pred = 1 - predict(X_train, w, b)\n",
    "print('Training accuracy: {}'.format(accuracy(y_train_pred, y_train)))"
   ]
  },
  {
   "cell_type": "code",
   "execution_count": 14,
   "metadata": {},
   "outputs": [
    {
     "name": "stdout",
     "output_type": "stream",
     "text": [
      " Retail trade 8.8984375\n",
      " 34 -6.75390625\n",
      " 37 -6.1875\n",
      " Other service -5.708984375\n",
      " Communications -4.015625\n",
      " 30 3.796875\n",
      " Medical except hospital 3.5\n",
      " 7 -3.4453125\n",
      " 32 -3.40625\n",
      " Finance insurance and real estate 3.3984375\n"
     ]
    }
   ],
   "source": [
    "# Predict testing labels\n",
    "predictions = 1 - predict(X_test, w, b)\n",
    "with open(output_fpath.format('generative'), 'w') as f:\n",
    "    f.write('id,label\\n')\n",
    "    for i, label in enumerate(predictions):\n",
    "        f.write('{},{}\\n'.format(i, label))\n",
    "\n",
    "# Print out the most significant weights\n",
    "ind = np.argsort(np.abs(w))[::-1]\n",
    "with open(X_test_fpath) as f:\n",
    "    content = f.readline().strip('\\n').split(',')\n",
    "features = np.array(content)\n",
    "for i in ind[0:10]:\n",
    "    print(features[i], w[i])"
   ]
  }
 ],
 "metadata": {
  "kernelspec": {
   "display_name": "Python 3",
   "language": "python",
   "name": "python3"
  },
  "language_info": {
   "codemirror_mode": {
    "name": "ipython",
    "version": 3
   },
   "file_extension": ".py",
   "mimetype": "text/x-python",
   "name": "python",
   "nbconvert_exporter": "python",
   "pygments_lexer": "ipython3",
   "version": "3.7.4"
  }
 },
 "nbformat": 4,
 "nbformat_minor": 2
}
